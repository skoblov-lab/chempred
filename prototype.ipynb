{
 "cells": [
  {
   "cell_type": "code",
   "execution_count": 9,
   "metadata": {},
   "outputs": [],
   "source": [
    "from itertools import starmap, chain\n",
    "from collections import Counter\n",
    "import operator as op\n",
    "\n",
    "import numpy as np\n",
    "import pandas as pd\n",
    "from ggplot import *\n",
    "from keras import models\n",
    "from keras import layers\n",
    "from keras import callbacks\n",
    "from fn import F\n",
    "\n",
    "from chempred import chemdner\n",
    "from chempred import preprocessing as pp\n",
    "from chempred import model\n",
    "from chempred import training"
   ]
  },
  {
   "cell_type": "markdown",
   "metadata": {},
   "source": [
    "### Read and preprocess data"
   ]
  },
  {
   "cell_type": "code",
   "execution_count": 10,
   "metadata": {
    "collapsed": true
   },
   "outputs": [],
   "source": [
    "MODELS = \"models\"\n",
    "ABSTRACTS = \"abstracts\"\n",
    "ANNOTATIONS = \"annotations\"\n",
    "DETECTOR = \"detector\"\n",
    "TAGGER = \"tagger\"\n",
    "\n",
    "NCHAR = pp.MAXCHAR + 1\n",
    "EMBED = 50"
   ]
  },
  {
   "cell_type": "code",
   "execution_count": 11,
   "metadata": {
    "collapsed": true
   },
   "outputs": [],
   "source": [
    "detector = \"configs/detector-config.json\"\n",
    "config = training.read_config(detector)\n",
    "if set(config.mapping.values()) != {0, 1}:\n",
    "    raise ValueError(\"The detector's mapping must be binary\")\n",
    "ncls = 2\n",
    "\n",
    "# read training data\n",
    "train_abstracts = chemdner.read_abstracts(config.train_data[ABSTRACTS])\n",
    "train_anno = chemdner.read_annotations(config.train_data[ANNOTATIONS])\n",
    "train_ids, train_samples, train_fail, train_x, train_y, train_mask = (\n",
    "    training.process_data(train_abstracts, train_anno, config.window,\n",
    "                          config.maxlen, config.nonpositive,\n",
    "                          config.mapping, config.positive)\n",
    ")\n",
    "# read testing data\n",
    "test_abstracts = chemdner.read_abstracts(\n",
    "    config.test_data[ABSTRACTS])\n",
    "test_anno = chemdner.read_annotations(\n",
    "    config.test_data[ANNOTATIONS])\n",
    "test_ids, test_samples, test_fail, test_x, test_y, test_mask = (\n",
    "    training.process_data(test_abstracts, test_anno, config.window,\n",
    "                          config.maxlen, config.nonpositive,\n",
    "                          config.mapping, config.positive)\n",
    ")\n",
    "\n",
    "train_y_onehot = pp.maskfalse(pp.one_hot(train_y), train_mask)\n",
    "test_y_onehot = pp.maskfalse(pp.one_hot(test_y), test_mask)"
   ]
  },
  {
   "cell_type": "code",
   "execution_count": 5,
   "metadata": {},
   "outputs": [
    {
     "data": {
      "text/plain": [
       "((188304, 400), (162048, 400))"
      ]
     },
     "execution_count": 5,
     "metadata": {},
     "output_type": "execute_result"
    }
   ],
   "source": [
    "train_x.shape, test_x.shape"
   ]
  },
  {
   "cell_type": "markdown",
   "metadata": {},
   "source": [
    "### Examine class imbalance"
   ]
  },
  {
   "cell_type": "code",
   "execution_count": 10,
   "metadata": {},
   "outputs": [
    {
     "data": {
      "text/plain": [
       "array([4655638, 2079174])"
      ]
     },
     "execution_count": 10,
     "metadata": {},
     "output_type": "execute_result"
    }
   ],
   "source": [
    "counts_train = np.vstack([counts if len(counts) == 2 else np.array([counts[0], 0]) \n",
    "                          for counts in [np.unique(cls[mask], return_counts=True)[1] \n",
    "                                         for cls, mask in zip(train_y, train_mask)]])\n",
    "counts_train.sum(axis=0)"
   ]
  },
  {
   "cell_type": "code",
   "execution_count": 11,
   "metadata": {},
   "outputs": [
    {
     "data": {
      "text/plain": [
       "array([4002880, 1777524])"
      ]
     },
     "execution_count": 11,
     "metadata": {},
     "output_type": "execute_result"
    }
   ],
   "source": [
    "counts_test = np.vstack([counts if len(counts) == 2 else np.array([counts[0], 0]) \n",
    "                         for counts in [np.unique(cls[mask], return_counts=True)[1] \n",
    "                                        for cls, mask in zip(test_y, test_mask)]])\n",
    "counts_test.sum(axis=0)"
   ]
  },
  {
   "cell_type": "markdown",
   "metadata": {},
   "source": [
    "### Build a detector model"
   ]
  },
  {
   "cell_type": "code",
   "execution_count": 4,
   "metadata": {
    "collapsed": true
   },
   "outputs": [],
   "source": [
    "l_in = layers.Input(shape=(config.maxlen,), name=\"l_in\")\n",
    "l_emb = layers.Embedding(NCHAR, EMBED, mask_zero=True,\n",
    "                         input_length=config.maxlen)(l_in)\n",
    "l_rec = model.build_rec(config.nsteps, config.in_drop,\n",
    "                        config.rec_drop)(l_emb)\n",
    "l_out = layers.TimeDistributed(\n",
    "    layers.Dense(ncls, activation='softmax'), name=\"l_out\")(l_rec)\n",
    "detector_model = models.Model(l_in, l_out)\n",
    "detector_model.compile(optimizer=\"Adam\", loss=\"binary_crossentropy\",\n",
    "                       metrics=[\"accuracy\"])"
   ]
  },
  {
   "cell_type": "code",
   "execution_count": null,
   "metadata": {},
   "outputs": [],
   "source": [
    "with training.training(MODELS, DETECTOR) as (destination, weights):\n",
    "    # save architecture\n",
    "    detector_json = detector_model.to_json()\n",
    "    with open(destination, \"w\") as json_file:\n",
    "        json_file.write(detector_json)\n",
    "    checkpoint = callbacks.ModelCheckpoint(weights, monitor=\"val_acc\",\n",
    "                                           verbose=1, mode=\"max\",\n",
    "                                           save_best_only=True)\n",
    "    detector_model.fit(train_x, train_y_onehot, callbacks=[checkpoint],\n",
    "                       validation_data=(test_x, test_y_onehot), verbose=1,\n",
    "                       epochs=config.epochs, batch_size=config.batchsize)"
   ]
  },
  {
   "cell_type": "markdown",
   "metadata": {
    "scrolled": false
   },
   "source": [
    "### Annotated entity length distribution and per-class char-level sample size"
   ]
  },
  {
   "cell_type": "code",
   "execution_count": 18,
   "metadata": {},
   "outputs": [
    {
     "data": {
      "text/plain": [
       "[('SYSTEMATIC', 106048),\n",
       " ('TRIVIAL', 88779),\n",
       " ('FAMILY', 52103),\n",
       " ('FORMULA', 18988),\n",
       " ('ABBREVIATION', 17499),\n",
       " ('MULTIPLE', 5623),\n",
       " ('IDENTIFIER', 4788),\n",
       " ('NO CLASS', 349)]"
      ]
     },
     "execution_count": 18,
     "metadata": {},
     "output_type": "execute_result"
    }
   ],
   "source": [
    "chemdner_anno_train = list(chain.from_iterable(abstr_anno[1] + abstr_anno[2] \n",
    "                                               for abstr_anno in train_anno))\n",
    "chemdner_anno_len_train = [len(anno.text) for anno in chemdner_anno_train]\n",
    "chemdner_anno_cls_train = [anno.cls for anno in chemdner_anno_train]\n",
    "chemdner_anno_lengths_train = pd.DataFrame({\"len\": chemdner_anno_len_train, \n",
    "                                            \"cls\": chemdner_anno_cls_train})\n",
    "sorted([(cls, grp[\"len\"].sum()) for cls, grp in chemdner_anno_lengths_train.groupby(\"cls\")], \n",
    "       key=op.itemgetter(1), reverse=True)"
   ]
  },
  {
   "cell_type": "code",
   "execution_count": 20,
   "metadata": {},
   "outputs": [
    {
     "data": {
      "text/plain": [
       "[('SYSTEMATIC', 85867),\n",
       " ('TRIVIAL', 78240),\n",
       " ('FAMILY', 48383),\n",
       " ('ABBREVIATION', 15996),\n",
       " ('FORMULA', 14178),\n",
       " ('MULTIPLE', 5265),\n",
       " ('IDENTIFIER', 3733),\n",
       " ('NO CLASS', 343)]"
      ]
     },
     "execution_count": 20,
     "metadata": {},
     "output_type": "execute_result"
    }
   ],
   "source": [
    "chemdner_anno_test = list(chain.from_iterable(abstr_anno[1] + abstr_anno[2] \n",
    "                                              for abstr_anno in test_anno))\n",
    "chemdner_anno_len_test = [len(anno.text) for anno in chemdner_anno_test]\n",
    "chemdner_anno_cls_test = [anno.cls for anno in chemdner_anno_test]\n",
    "chemdner_anno_lengths_test = pd.DataFrame({\"len\": chemdner_anno_len_test, \n",
    "                                      \"cls\": chemdner_anno_cls_test})\n",
    "sorted([(cls, grp[\"len\"].sum()) for cls, grp in chemdner_anno_lengths_test.groupby(\"cls\")], \n",
    "       key=op.itemgetter(1), reverse=True)"
   ]
  },
  {
   "cell_type": "code",
   "execution_count": 9,
   "metadata": {},
   "outputs": [
    {
     "data": {
      "image/png": "[encoded data removed]",
      "text/plain": [
       "<matplotlib.figure.Figure at 0x7f8187f7de10>"
      ]
     },
     "metadata": {},
     "output_type": "display_data"
    },
    {
     "data": {
      "text/plain": [
       "<ggplot: (-9223363274710655228)>"
      ]
     },
     "execution_count": 9,
     "metadata": {},
     "output_type": "execute_result"
    }
   ],
   "source": [
    "ggplot(chemdner_anno_lengths, aes(fill=\"cls\", x=\"cls\", y=\"len\")) + \\\n",
    "    geom_boxplot()"
   ]
  },
  {
   "cell_type": "markdown",
   "metadata": {
    "collapsed": true
   },
   "source": [
    "### Encode data for the tagger model"
   ]
  },
  {
   "cell_type": "code",
   "execution_count": 22,
   "metadata": {},
   "outputs": [],
   "source": [
    "class_mapping = {cls: i for i, cls in enumerate(set(chemdner_anno_lengths[\"cls\"]))}\n",
    "\n",
    "encoded_annotations_train = list(map(F(pp.encode_annotation, class_mapping), \n",
    "                                     chemdner_anno_train))\n",
    "encoded_annotations_test = list(map(F(pp.encode_annotation, class_mapping), \n",
    "                                    chemdner_anno_test))\n",
    "\n",
    "tagger_x_train, tagger_y_train = zip(*encoded_annotations_train)\n",
    "tagger_x_test, tagger_y_test = zip(*encoded_annotations_test)\n",
    "\n",
    "tagger_y_onehot_train, tagger_y_onehot_test = map(pp.one_hot())"
   ]
  },
  {
   "cell_type": "code",
   "execution_count": null,
   "metadata": {},
   "outputs": [],
   "source": []
  },
  {
   "cell_type": "markdown",
   "metadata": {},
   "source": [
    "### Build a tagger model"
   ]
  },
  {
   "cell_type": "code",
   "execution_count": null,
   "metadata": {
    "collapsed": true
   },
   "outputs": [],
   "source": [
    "max_anno_len = max([])"
   ]
  },
  {
   "cell_type": "code",
   "execution_count": null,
   "metadata": {
    "collapsed": true
   },
   "outputs": [],
   "source": [
    "l_in = layers.Input(shape=(config.maxlen,), name=\"l_in\")\n",
    "l_emb = layers.Embedding(NCHAR, EMBED, mask_zero=True,\n",
    "                         input_length=config.maxlen)(l_in)\n",
    "l_rec = model.build_rec(config.nsteps, config.in_drop,\n",
    "                        config.rec_drop)(l_emb)\n",
    "l_out = layers.TimeDistributed(\n",
    "    layers.Dense(ncls, activation='softmax'), name=\"l_out\")(l_rec)\n",
    "detector_model = models.Model(l_in, l_out)\n",
    "detector_model.compile(optimizer=\"Adam\", loss=\"binary_crossentropy\",\n",
    "                       metrics=[\"accuracy\"])"
   ]
  },
  {
   "cell_type": "code",
   "execution_count": null,
   "metadata": {
    "collapsed": true
   },
   "outputs": [],
   "source": []
  },
  {
   "cell_type": "code",
   "execution_count": 43,
   "metadata": {
    "collapsed": true
   },
   "outputs": [
    {
     "name": "stdout",
     "output_type": "stream",
     "text": [
      "[[0 0 1 1 1 1 0 0 0 1 0 0 0 0 0 0 0 0 0 0 0 0 0 0 0 0 0 0 0 0]]\n",
      "[[0 0 1 1 1 1 0 0 0 1 1 1 1 1 1 1 1 1 1 1 1 1 1 1 1 1 1 1 1 1]]\n"
     ]
    }
   ],
   "source": [
    "print(test2_x_encoded[:1].argmin(axis=2))\n",
    "print(net2.predict(test2_x_encoded[:1]).argmax(axis=2))"
   ]
  },
  {
   "cell_type": "code",
   "execution_count": null,
   "metadata": {
    "collapsed": true
   },
   "outputs": [],
   "source": []
  },
  {
   "cell_type": "code",
   "execution_count": null,
   "metadata": {
    "collapsed": true
   },
   "outputs": [],
   "source": []
  }
 ],
 "metadata": {
  "kernelspec": {
   "display_name": "Python 3",
   "language": "python",
   "name": "python3"
  },
  "language_info": {
   "codemirror_mode": {
    "name": "ipython",
    "version": 3
   },
   "file_extension": ".py",
   "mimetype": "text/x-python",
   "name": "python",
   "nbconvert_exporter": "python",
   "pygments_lexer": "ipython3",
   "version": "3.5.3"
  }
 },
 "nbformat": 4,
 "nbformat_minor": 1
}
